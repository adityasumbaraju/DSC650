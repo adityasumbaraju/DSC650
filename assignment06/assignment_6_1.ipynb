{
 "cells": [
  {
   "cell_type": "code",
   "execution_count": 21,
   "id": "operating-passing",
   "metadata": {},
   "outputs": [],
   "source": [
    "import numpy as np\n",
    "import pandas as pd\n",
    "import matplotlib.pyplot as plt\n",
    "%matplotlib inline\n",
    "from keras.datasets import mnist\n",
    "from keras.models import Sequential\n",
    "from keras.layers import Dense, Dropout, Activation\n",
    "from keras.utils import np_utils\n",
    "\n",
    "np.random.seed(35)"
   ]
  },
  {
   "cell_type": "code",
   "execution_count": 22,
   "id": "secret-press",
   "metadata": {},
   "outputs": [
    {
     "name": "stdout",
     "output_type": "stream",
     "text": [
      "X_train original shape (60000, 28, 28)\n",
      "y_train original shape (60000,)\n",
      "X_test original shape (10000, 28, 28)\n",
      "y_test original shape (10000,)\n"
     ]
    }
   ],
   "source": [
    "(X_train, y_train), (X_test, y_test) = mnist.load_data()\n",
    "print(\"X_train original shape\", X_train.shape)\n",
    "print(\"y_train original shape\", y_train.shape)\n",
    "print(\"X_test original shape\", X_test.shape)\n",
    "print(\"y_test original shape\", y_test.shape)"
   ]
  },
  {
   "cell_type": "code",
   "execution_count": 23,
   "id": "educational-agreement",
   "metadata": {},
   "outputs": [
    {
     "data": {
      "text/plain": [
       "Text(0.5, 1.0, '5')"
      ]
     },
     "execution_count": 23,
     "metadata": {},
     "output_type": "execute_result"
    },
    {
     "data": {
      "image/png": "[encoded data removed]",
      "text/plain": [
       "<Figure size 432x288 with 1 Axes>"
      ]
     },
     "metadata": {
      "needs_background": "light"
     },
     "output_type": "display_data"
    }
   ],
   "source": [
    "plt.imshow(X_train[0], cmap='gray')\n",
    "plt.title(y_train[0])"
   ]
  },
  {
   "cell_type": "code",
   "execution_count": 24,
   "id": "indian-princeton",
   "metadata": {},
   "outputs": [],
   "source": [
    "X_train = X_train.reshape(60000,784)\n",
    "X_test = X_test.reshape(10000,784)\n",
    "\n",
    "X_train = X_train.astype('float32')\n",
    "X_test = X_test.astype('float32')\n",
    "\n",
    "X_train/=255\n",
    "X_test/=255"
   ]
  },
  {
   "cell_type": "code",
   "execution_count": 25,
   "id": "organic-height",
   "metadata": {},
   "outputs": [
    {
     "data": {
      "text/plain": [
       "(5, array([0., 0., 0., 0., 0., 1., 0., 0., 0., 0.], dtype=float32))"
      ]
     },
     "execution_count": 25,
     "metadata": {},
     "output_type": "execute_result"
    }
   ],
   "source": [
    "number_of_classes = 10\n",
    "\n",
    "Y_train = np_utils.to_categorical(y_train, number_of_classes)\n",
    "Y_test = np_utils.to_categorical(y_test, number_of_classes)\n",
    "\n",
    "y_train[0], Y_train[0]"
   ]
  },
  {
   "cell_type": "code",
   "execution_count": 26,
   "id": "detected-calcium",
   "metadata": {},
   "outputs": [
    {
     "data": {
      "text/plain": [
       "((50000, 784), (10000, 784))"
      ]
     },
     "execution_count": 26,
     "metadata": {},
     "output_type": "execute_result"
    }
   ],
   "source": [
    "#shuffle the training set\n",
    "for _ in range(5): \n",
    "    indexes = np.random.permutation(len(X_train))\n",
    "    \n",
    "X_train = X_train[indexes]\n",
    "Y_train = Y_train[indexes]\n",
    "\n",
    "#set aside 10,000 for validation\n",
    "val_images = X_train[:10000,:]\n",
    "val_labels = Y_train[:10000,:]\n",
    "\n",
    "# leave rest in training set\n",
    "train_images = X_train[10000:,:]\n",
    "train_labels = Y_train[10000:,:]\n",
    "\n",
    "train_images.shape, val_images.shape"
   ]
  },
  {
   "cell_type": "code",
   "execution_count": 27,
   "id": "hired-cornell",
   "metadata": {},
   "outputs": [],
   "source": [
    "model = Sequential()\n",
    "\n",
    "model.add(Dense(512, input_dim=784))\n",
    "# An \"activation\" is just a non-linear function applied to the output\n",
    "# of the layer above. Here, with a \"rectified linear unit\",\n",
    "# we clamp all values below 0 to 0.\n",
    "model.add(Activation('relu'))\n",
    "# Dropout helps protect the model from memorizing or \"overfitting\" the training data\n",
    "model.add(Dropout(0.2))\n",
    "\n",
    "model.add(Dense(512))\n",
    "model.add(Activation('relu'))\n",
    "model.add(Dropout(0.2))\n",
    "\n",
    "model.add(Dense(512))\n",
    "model.add(Activation('relu'))\n",
    "model.add(Dropout(0.2))\n",
    "\n",
    "model.add(Dense(10))\n",
    "# This special \"softmax\" activation among other things,\n",
    "# ensures the output is a valid probaility distribution, that is\n",
    "# that its values are all non-negative and sum to 1.\n",
    "model.add(Activation('softmax'))"
   ]
  },
  {
   "cell_type": "code",
   "execution_count": 28,
   "id": "direct-strike",
   "metadata": {},
   "outputs": [],
   "source": [
    "model.compile(loss='categorical_crossentropy', optimizer='adam', metrics=['accuracy'])"
   ]
  },
  {
   "cell_type": "code",
   "execution_count": 29,
   "id": "express-replacement",
   "metadata": {},
   "outputs": [
    {
     "name": "stdout",
     "output_type": "stream",
     "text": [
      "Epoch 1/5\n",
      "391/391 [==============================] - 5s 12ms/step - loss: 0.5032 - accuracy: 0.8439 - val_loss: 0.1248 - val_accuracy: 0.9618\n",
      "Epoch 2/5\n",
      "391/391 [==============================] - 5s 12ms/step - loss: 0.1187 - accuracy: 0.9634 - val_loss: 0.1025 - val_accuracy: 0.9694\n",
      "Epoch 3/5\n",
      "391/391 [==============================] - 5s 12ms/step - loss: 0.0831 - accuracy: 0.9731 - val_loss: 0.1018 - val_accuracy: 0.9719\n",
      "Epoch 4/5\n",
      "391/391 [==============================] - 5s 12ms/step - loss: 0.0644 - accuracy: 0.9796 - val_loss: 0.0894 - val_accuracy: 0.9753\n",
      "Epoch 5/5\n",
      "391/391 [==============================] - 4s 11ms/step - loss: 0.0526 - accuracy: 0.9836 - val_loss: 0.0964 - val_accuracy: 0.9726\n"
     ]
    }
   ],
   "source": [
    "history = model.fit(train_images, train_labels, epochs=5, batch_size=128,\n",
    "             validation_data=(val_images, val_labels))"
   ]
  },
  {
   "cell_type": "code",
   "execution_count": 30,
   "id": "varied-providence",
   "metadata": {},
   "outputs": [],
   "source": [
    "train_loss = history.history['loss']\n",
    "val_loss = history.history['val_loss']\n"
   ]
  },
  {
   "cell_type": "code",
   "execution_count": 31,
   "id": "friendly-administration",
   "metadata": {},
   "outputs": [],
   "source": [
    "epochs = range(1, len(history.history['loss']) + 1)"
   ]
  },
  {
   "cell_type": "code",
   "execution_count": 39,
   "id": "empty-dividend",
   "metadata": {},
   "outputs": [
    {
     "data": {
      "image/png": "[encoded data removed]",
      "text/plain": [
       "<Figure size 432x288 with 1 Axes>"
      ]
     },
     "metadata": {
      "needs_background": "light"
     },
     "output_type": "display_data"
    },
    {
     "data": {
      "text/plain": [
       "<Figure size 432x288 with 0 Axes>"
      ]
     },
     "metadata": {},
     "output_type": "display_data"
    }
   ],
   "source": [
    "plt.plot(epochs, train_loss, 'bo', label='Training loss')\n",
    "plt.plot(epochs, val_loss, 'g', label='Validation loss')\n",
    "plt.title('Training and Validation Losses')\n",
    "plt.xlabel('Epochs')\n",
    "plt.ylabel('Loss')\n",
    "plt.legend()\n",
    "\n",
    "plt.show()\n",
    "plt.savefig('results/6_1_lossplot.png')"
   ]
  },
  {
   "cell_type": "code",
   "execution_count": 33,
   "id": "horizontal-positive",
   "metadata": {},
   "outputs": [],
   "source": [
    "train_accuracy = history.history['accuracy']\n",
    "val_accuracy = history.history['val_accuracy']\n"
   ]
  },
  {
   "cell_type": "code",
   "execution_count": 34,
   "id": "fossil-carry",
   "metadata": {},
   "outputs": [],
   "source": [
    "epochs = range(1, len(history.history['accuracy']) + 1)"
   ]
  },
  {
   "cell_type": "code",
   "execution_count": 38,
   "id": "promising-convertible",
   "metadata": {},
   "outputs": [
    {
     "data": {
      "image/png": "[encoded data removed]",
      "text/plain": [
       "<Figure size 432x288 with 1 Axes>"
      ]
     },
     "metadata": {
      "needs_background": "light"
     },
     "output_type": "display_data"
    },
    {
     "data": {
      "text/plain": [
       "<Figure size 432x288 with 0 Axes>"
      ]
     },
     "metadata": {},
     "output_type": "display_data"
    }
   ],
   "source": [
    "plt.plot(epochs, train_accuracy, 'bo', label='Training Accuracy')\n",
    "plt.plot(epochs, val_accuracy, 'g', label='Validation Accuracy')\n",
    "plt.title('Training and Validation Accuracy')\n",
    "plt.xlabel('Epochs')\n",
    "plt.ylabel('Accuracy')\n",
    "plt.legend()\n",
    "\n",
    "plt.show()\n",
    "plt.savefig('results/6_1_accuracyplot.png')"
   ]
  },
  {
   "cell_type": "code",
   "execution_count": 40,
   "id": "entitled-circuit",
   "metadata": {},
   "outputs": [
    {
     "name": "stdout",
     "output_type": "stream",
     "text": [
      "313/313 [==============================] - 1s 3ms/step - loss: 0.0862 - accuracy: 0.9760\n",
      "\n",
      "Test accuracy:  0.9760000109672546\n"
     ]
    }
   ],
   "source": [
    "score = model.evaluate(X_test, Y_test)\n",
    "print()\n",
    "print('Test accuracy: ', score[1])"
   ]
  },
  {
   "cell_type": "code",
   "execution_count": 49,
   "id": "consolidated-tours",
   "metadata": {},
   "outputs": [
    {
     "name": "stdout",
     "output_type": "stream",
     "text": [
      "      Actual  Predictions\n",
      "0          7            7\n",
      "1          2            2\n",
      "2          1            1\n",
      "3          0            0\n",
      "4          4            4\n",
      "...      ...          ...\n",
      "9995       2            2\n",
      "9996       3            3\n",
      "9997       4            4\n",
      "9998       5            5\n",
      "9999       6            6\n",
      "\n",
      "[10000 rows x 2 columns]\n"
     ]
    }
   ],
   "source": [
    "predictions = np.argmax(model.predict(X_test), axis=1)\n",
    "\n",
    "predictions = list(predictions)\n",
    "actuals = list(y_test)\n",
    "\n",
    "pred_res = pd.DataFrame({'Actual': actuals, 'Predictions': predictions})\n",
    "pred_res.to_csv('results/6_1_predictions.csv', index=False)\n",
    "print (pred_res)"
   ]
  },
  {
   "cell_type": "code",
   "execution_count": 50,
   "id": "indian-donor",
   "metadata": {},
   "outputs": [],
   "source": [
    "# save model\n",
    "model.save('results/6_1_model.h5')"
   ]
  },
  {
   "cell_type": "code",
   "execution_count": 51,
   "id": "spanish-touch",
   "metadata": {},
   "outputs": [],
   "source": [
    "#Metrics output\n",
    "with open('results/6_1_metrics.txt', 'w') as f:\n",
    "    f.write('Training Loss: {}'.format(str(history.history['loss'])))\n",
    "    f.write('\\nTraining Accuracy: {}'.format(str(history.history['accuracy'])))\n",
    "    f.write('\\nTest Loss: {}'.format(score[0]))\n",
    "    f.write('\\nTest Accuracy: {}'.format(score[1]))"
   ]
  },
  {
   "cell_type": "code",
   "execution_count": null,
   "id": "quick-pacific",
   "metadata": {},
   "outputs": [],
   "source": []
  }
 ],
 "metadata": {
  "kernelspec": {
   "display_name": "Python 3",
   "language": "python",
   "name": "python3"
  },
  "language_info": {
   "codemirror_mode": {
    "name": "ipython",
    "version": 3
   },
   "file_extension": ".py",
   "mimetype": "text/x-python",
   "name": "python",
   "nbconvert_exporter": "python",
   "pygments_lexer": "ipython3",
   "version": "3.8.8"
  }
 },
 "nbformat": 4,
 "nbformat_minor": 5
}
