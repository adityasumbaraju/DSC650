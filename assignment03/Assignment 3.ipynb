{
 "cells": [
  {
   "cell_type": "markdown",
   "metadata": {},
   "source": [
    "# Assignment 3"
   ]
  },
  {
   "cell_type": "markdown",
   "metadata": {},
   "source": [
    "Import libraries and define common helper functions"
   ]
  },
  {
   "cell_type": "code",
   "execution_count": 4,
   "metadata": {
    "scrolled": true
   },
   "outputs": [],
   "source": [
    "import os\n",
    "import sys\n",
    "import gzip\n",
    "import json\n",
    "from pathlib import Path\n",
    "import csv\n",
    "\n",
    "import pandas as pd\n",
    "import s3fs\n",
    "import pyarrow as pa\n",
    "from pyarrow.json import read_json\n",
    "import pyarrow.parquet as pq\n",
    "import fastavro\n",
    "import pygeohash\n",
    "import snappy\n",
    "import jsonschema\n",
    "from jsonschema.exceptions import ValidationError\n",
    "\n",
    "\n",
    "endpoint_url='https://storage.budsc.midwest-datascience.com'\n",
    "\n",
    "current_dir = Path(os.getcwd()).absolute()\n",
    "schema_dir = current_dir.joinpath('schemas')\n",
    "results_dir = current_dir.joinpath('results')\n",
    "results_dir.mkdir(parents=True, exist_ok=True)\n",
    "\n",
    "\n",
    "def read_jsonl_data():\n",
    "    s3 = s3fs.S3FileSystem(\n",
    "        anon=True,\n",
    "        client_kwargs={\n",
    "            'endpoint_url': endpoint_url\n",
    "        }\n",
    "    )\n",
    "    src_data_path = 'data/processed/openflights/routes.jsonl.gz'\n",
    "    with s3.open(src_data_path, 'rb') as f_gz:\n",
    "        with gzip.open(f_gz, 'rb') as f:\n",
    "            records = [json.loads(line) for line in f.readlines()]\n",
    "        \n",
    "\n",
    "    return records"
   ]
  },
  {
   "cell_type": "markdown",
   "metadata": {},
   "source": [
    "Load the records from https://storage.budsc.midwest-datascience.com/data/processed/openflights/routes.jsonl.gz "
   ]
  },
  {
   "cell_type": "code",
   "execution_count": 33,
   "metadata": {},
   "outputs": [
    {
     "data": {
      "text/plain": [
       "[{'airline': {'airline_id': 410,\n",
       "   'name': 'Aerocondor',\n",
       "   'alias': 'ANA All Nippon Airways',\n",
       "   'iata': '2B',\n",
       "   'icao': 'ARD',\n",
       "   'callsign': 'AEROCONDOR',\n",
       "   'country': 'Portugal',\n",
       "   'active': True},\n",
       "  'src_airport': {'airport_id': 2965,\n",
       "   'name': 'Sochi International Airport',\n",
       "   'city': 'Sochi',\n",
       "   'country': 'Russia',\n",
       "   'iata': 'AER',\n",
       "   'icao': 'URSS',\n",
       "   'latitude': 43.449902,\n",
       "   'longitude': 39.9566,\n",
       "   'altitude': 89,\n",
       "   'timezone': 3.0,\n",
       "   'dst': 'N',\n",
       "   'tz_id': 'Europe/Moscow',\n",
       "   'type': 'airport',\n",
       "   'source': 'OurAirports'},\n",
       "  'dst_airport': {'airport_id': 2990,\n",
       "   'name': 'Kazan International Airport',\n",
       "   'city': 'Kazan',\n",
       "   'country': 'Russia',\n",
       "   'iata': 'KZN',\n",
       "   'icao': 'UWKD',\n",
       "   'latitude': 55.606201171875,\n",
       "   'longitude': 49.278701782227,\n",
       "   'altitude': 411,\n",
       "   'timezone': 3.0,\n",
       "   'dst': 'N',\n",
       "   'tz_id': 'Europe/Moscow',\n",
       "   'type': 'airport',\n",
       "   'source': 'OurAirports'},\n",
       "  'codeshare': False,\n",
       "  'equipment': ['CR2']}]"
      ]
     },
     "execution_count": 33,
     "metadata": {},
     "output_type": "execute_result"
    }
   ],
   "source": [
    "records = read_jsonl_data()\n",
    "\n",
    "records[0:1]"
   ]
  },
  {
   "cell_type": "code",
   "execution_count": 37,
   "metadata": {},
   "outputs": [
    {
     "name": "stdout",
     "output_type": "stream",
     "text": [
      "{\n",
      "  \"$schema\": \"http://json-schema.org/schema#\",\n",
      "  \"anyOf\": [\n",
      "    {\n",
      "      \"type\": \"object\"\n",
      "    },\n",
      "    {\n",
      "      \"type\": \"array\",\n",
      "      \"items\": {\n",
      "        \"type\": \"object\",\n",
      "        \"properties\": {\n",
      "          \"airline\": {\n",
      "            \"type\": \"object\",\n",
      "            \"properties\": {\n",
      "              \"airline_id\": {\n",
      "                \"type\": \"integer\"\n",
      "              },\n",
      "              \"name\": {\n",
      "                \"type\": \"string\"\n",
      "              },\n",
      "              \"alias\": {\n",
      "                \"type\": \"string\"\n",
      "              },\n",
      "              \"iata\": {\n",
      "                \"type\": \"string\"\n",
      "              },\n",
      "              \"icao\": {\n",
      "                \"type\": \"string\"\n",
      "              },\n",
      "              \"callsign\": {\n",
      "                \"type\": \"string\"\n",
      "              },\n",
      "              \"country\": {\n",
      "                \"type\": \"string\"\n",
      "              },\n",
      "              \"active\": {\n",
      "                \"type\": \"boolean\"\n",
      "              }\n",
      "            },\n",
      "            \"required\": [\n",
      "              \"active\",\n",
      "              \"airline_id\",\n",
      "              \"alias\",\n",
      "              \"callsign\",\n",
      "              \"country\",\n",
      "              \"iata\",\n",
      "              \"icao\",\n",
      "              \"name\"\n",
      "            ]\n",
      "          },\n",
      "          \"src_airport\": {\n",
      "            \"anyOf\": [\n",
      "              {\n",
      "                \"type\": \"null\"\n",
      "              },\n",
      "              {\n",
      "                \"type\": \"object\",\n",
      "                \"properties\": {\n",
      "                  \"airport_id\": {\n",
      "                    \"type\": \"integer\"\n",
      "                  },\n",
      "                  \"name\": {\n",
      "                    \"type\": \"string\"\n",
      "                  },\n",
      "                  \"city\": {\n",
      "                    \"type\": \"string\"\n",
      "                  },\n",
      "                  \"country\": {\n",
      "                    \"type\": \"string\"\n",
      "                  },\n",
      "                  \"iata\": {\n",
      "                    \"type\": \"string\"\n",
      "                  },\n",
      "                  \"icao\": {\n",
      "                    \"type\": \"string\"\n",
      "                  },\n",
      "                  \"latitude\": {\n",
      "                    \"type\": \"number\"\n",
      "                  },\n",
      "                  \"longitude\": {\n",
      "                    \"type\": \"number\"\n",
      "                  },\n",
      "                  \"altitude\": {\n",
      "                    \"type\": \"integer\"\n",
      "                  },\n",
      "                  \"timezone\": {\n",
      "                    \"type\": \"number\"\n",
      "                  },\n",
      "                  \"dst\": {\n",
      "                    \"type\": \"string\"\n",
      "                  },\n",
      "                  \"tz_id\": {\n",
      "                    \"type\": \"string\"\n",
      "                  },\n",
      "                  \"type\": {\n",
      "                    \"type\": \"string\"\n",
      "                  },\n",
      "                  \"source\": {\n",
      "                    \"type\": \"string\"\n",
      "                  }\n",
      "                },\n",
      "                \"required\": [\n",
      "                  \"airport_id\",\n",
      "                  \"altitude\",\n",
      "                  \"city\",\n",
      "                  \"country\",\n",
      "                  \"dst\",\n",
      "                  \"iata\",\n",
      "                  \"icao\",\n",
      "                  \"latitude\",\n",
      "                  \"longitude\",\n",
      "                  \"name\",\n",
      "                  \"source\",\n",
      "                  \"timezone\",\n",
      "                  \"type\",\n",
      "                  \"tz_id\"\n",
      "                ]\n",
      "              }\n",
      "            ]\n",
      "          },\n",
      "          \"dst_airport\": {\n",
      "            \"anyOf\": [\n",
      "              {\n",
      "                \"type\": \"null\"\n",
      "              },\n",
      "              {\n",
      "                \"type\": \"object\",\n",
      "                \"properties\": {\n",
      "                  \"airport_id\": {\n",
      "                    \"type\": \"integer\"\n",
      "                  },\n",
      "                  \"name\": {\n",
      "                    \"type\": \"string\"\n",
      "                  },\n",
      "                  \"city\": {\n",
      "                    \"type\": \"string\"\n",
      "                  },\n",
      "                  \"country\": {\n",
      "                    \"type\": \"string\"\n",
      "                  },\n",
      "                  \"iata\": {\n",
      "                    \"type\": \"string\"\n",
      "                  },\n",
      "                  \"icao\": {\n",
      "                    \"type\": \"string\"\n",
      "                  },\n",
      "                  \"latitude\": {\n",
      "                    \"type\": \"number\"\n",
      "                  },\n",
      "                  \"longitude\": {\n",
      "                    \"type\": \"number\"\n",
      "                  },\n",
      "                  \"altitude\": {\n",
      "                    \"type\": \"integer\"\n",
      "                  },\n",
      "                  \"timezone\": {\n",
      "                    \"type\": \"number\"\n",
      "                  },\n",
      "                  \"dst\": {\n",
      "                    \"type\": \"string\"\n",
      "                  },\n",
      "                  \"tz_id\": {\n",
      "                    \"type\": \"string\"\n",
      "                  },\n",
      "                  \"type\": {\n",
      "                    \"type\": \"string\"\n",
      "                  },\n",
      "                  \"source\": {\n",
      "                    \"type\": \"string\"\n",
      "                  }\n",
      "                },\n",
      "                \"required\": [\n",
      "                  \"airport_id\",\n",
      "                  \"altitude\",\n",
      "                  \"city\",\n",
      "                  \"country\",\n",
      "                  \"dst\",\n",
      "                  \"iata\",\n",
      "                  \"icao\",\n",
      "                  \"latitude\",\n",
      "                  \"longitude\",\n",
      "                  \"name\",\n",
      "                  \"source\",\n",
      "                  \"timezone\",\n",
      "                  \"type\",\n",
      "                  \"tz_id\"\n",
      "                ]\n",
      "              }\n",
      "            ]\n",
      "          },\n",
      "          \"codeshare\": {\n",
      "            \"type\": \"boolean\"\n",
      "          },\n",
      "          \"equipment\": {\n",
      "            \"type\": \"array\",\n",
      "            \"items\": {\n",
      "              \"type\": \"string\"\n",
      "            }\n",
      "          }\n",
      "        },\n",
      "        \"required\": [\n",
      "          \"airline\",\n",
      "          \"codeshare\",\n",
      "          \"dst_airport\",\n",
      "          \"equipment\",\n",
      "          \"src_airport\"\n",
      "        ]\n",
      "      }\n",
      "    }\n",
      "  ]\n",
      "}\n"
     ]
    }
   ],
   "source": [
    "from genson import SchemaBuilder\n",
    "schema_path = schema_dir.joinpath('routes-schema.json')\n",
    "builder = SchemaBuilder()\n",
    "builder.add_schema({\"type\": \"object\", \"properties\": {}})\n",
    "builder.add_object(records)\n",
    "builder.to_schema()\n",
    "print(builder.to_json(indent=2))"
   ]
  },
  {
   "cell_type": "markdown",
   "metadata": {},
   "source": [
    "## 3.1"
   ]
  },
  {
   "cell_type": "markdown",
   "metadata": {},
   "source": [
    "### 3.1.a JSON Schema"
   ]
  },
  {
   "cell_type": "code",
   "execution_count": 44,
   "metadata": {
    "scrolled": true
   },
   "outputs": [
    {
     "name": "stdout",
     "output_type": "stream",
     "text": [
      "{'$schema': 'http://json-schema.org/draft-04/schema#', 'type': 'object', 'properties': {'airline': {'type': 'object', 'properties': {'active': {'type': 'boolean'}, 'airline_id': {'type': 'integer'}, 'alias': {'type': 'string'}, 'callsign': {'type': 'string'}, 'country': {'type': 'string'}, 'iata': {'type': 'string'}, 'icao': {'type': 'string'}, 'name': {'type': 'string'}}, 'required': ['active', 'airline_id', 'alias', 'callsign', 'country', 'iata', 'icao', 'name']}, 'codeshare': {'type': 'boolean'}, 'dst_airport': {'type': ['object', 'null'], 'properties': {'airport_id': {'type': 'integer'}, 'altitude': {'type': 'integer'}, 'city': {'type': 'string'}, 'country': {'type': 'string'}, 'dst': {'type': 'string'}, 'iata': {'type': 'string'}, 'icao': {'type': 'string'}, 'latitude': {'type': 'number'}, 'longitude': {'type': 'number'}, 'name': {'type': 'string'}, 'source': {'type': 'string'}, 'timezone': {'type': 'number'}, 'type': {'type': 'string'}, 'tz_id': {'type': 'string'}}, 'required': ['airport_id', 'altitude', 'city', 'country', 'dst', 'iata', 'icao', 'latitude', 'longitude', 'name', 'source', 'timezone', 'type', 'tz_id']}, 'equipment': {'type': 'array', 'items': [{'type': 'string'}]}, 'src_airport': {'type': ['object', 'null'], 'properties': {'airport_id': {'type': 'integer'}, 'altitude': {'type': 'integer'}, 'city': {'type': 'string'}, 'country': {'type': 'string'}, 'dst': {'type': 'string'}, 'iata': {'type': 'string'}, 'icao': {'type': 'string'}, 'latitude': {'type': 'number'}, 'longitude': {'type': 'number'}, 'name': {'type': 'string'}, 'source': {'type': 'string'}, 'timezone': {'type': 'number'}, 'type': {'type': 'string'}, 'tz_id': {'type': 'string'}}, 'required': ['airport_id', 'altitude', 'city', 'country', 'dst', 'iata', 'icao', 'latitude', 'longitude', 'name', 'source', 'timezone', 'type', 'tz_id']}}, 'required': ['airline', 'codeshare', 'dst_airport', 'equipment', 'src_airport']}\n"
     ]
    }
   ],
   "source": [
    "def validate_jsonl_data(records):\n",
    "    schema_path = schema_dir.joinpath('routes-schema.json')\n",
    "    with open(schema_path) as f:\n",
    "        _schema = json.load(f)\n",
    "\n",
    "    print(_schema)\n",
    "\n",
    "    validation_csv_path = results_dir.joinpath('validation-results.csv')\n",
    "    with open(validation_csv_path, 'w') as f:\n",
    "        for i, record in enumerate(records):\n",
    "            try:\n",
    "                ## TODO: Validate record\n",
    "                jsonschema.validate(record, _schema)\n",
    "                ##pass\n",
    "            except ValidationError as e:\n",
    "                ## Print message if invalid record\n",
    "                detail = e.message\n",
    "                print(detail)\n",
    "                f.write(str(e.path))\n",
    "                f.write(str(e.instance))\n",
    "                f.write(str(detail))\n",
    "                return detail\n",
    "\n",
    "validate_jsonl_data(records)"
   ]
  },
  {
   "cell_type": "markdown",
   "metadata": {},
   "source": [
    "### 3.1.b Avro"
   ]
  },
  {
   "cell_type": "code",
   "execution_count": 53,
   "metadata": {},
   "outputs": [
    {
     "name": "stdout",
     "output_type": "stream",
     "text": [
      "/home/jovyan/dsc650/dsc650/assignments/assignment03/results/routes.avro\n"
     ]
    }
   ],
   "source": [
    "def create_avro_dataset(records):\n",
    "    schema_path = schema_dir.joinpath('routes.avsc')\n",
    "   \n",
    "    data_path = results_dir.joinpath('routes.avro')\n",
    "    print (data_path)\n",
    "    ## TODO: Use fastavro to create Avro dataset\n",
    "    with open(schema_path) as fo:\n",
    "        schema = json.loads(fo.read())\n",
    "    \n",
    "    parsed_schema = fastavro.parse_schema(schema)\n",
    "\n",
    "    # Write dataset\n",
    "    with open(data_path, 'wb') as out:\n",
    "        fastavro.writer(out, parsed_schema, records)\n",
    "    \n",
    "        \n",
    "create_avro_dataset(records)"
   ]
  },
  {
   "cell_type": "markdown",
   "metadata": {},
   "source": [
    "### 3.1.c Parquet"
   ]
  },
  {
   "cell_type": "code",
   "execution_count": 49,
   "metadata": {},
   "outputs": [
    {
     "name": "stdout",
     "output_type": "stream",
     "text": [
      "pyarrow.Table\n",
      "airline: struct<airline_id: int64, name: string, alias: string, iata: string, icao: string, callsign: string, country: string, active: bool>\n",
      "  child 0, airline_id: int64\n",
      "  child 1, name: string\n",
      "  child 2, alias: string\n",
      "  child 3, iata: string\n",
      "  child 4, icao: string\n",
      "  child 5, callsign: string\n",
      "  child 6, country: string\n",
      "  child 7, active: bool\n",
      "src_airport: struct<airport_id: int64, name: string, city: string, country: string, iata: string, icao: string, latitude: double, longitude: double, altitude: int64, timezone: double, dst: string, tz_id: string, type: string, source: string>\n",
      "  child 0, airport_id: int64\n",
      "  child 1, name: string\n",
      "  child 2, city: string\n",
      "  child 3, country: string\n",
      "  child 4, iata: string\n",
      "  child 5, icao: string\n",
      "  child 6, latitude: double\n",
      "  child 7, longitude: double\n",
      "  child 8, altitude: int64\n",
      "  child 9, timezone: double\n",
      "  child 10, dst: string\n",
      "  child 11, tz_id: string\n",
      "  child 12, type: string\n",
      "  child 13, source: string\n",
      "dst_airport: struct<airport_id: int64, name: string, city: string, country: string, iata: string, icao: string, latitude: double, longitude: double, altitude: int64, timezone: double, dst: string, tz_id: string, type: string, source: string>\n",
      "  child 0, airport_id: int64\n",
      "  child 1, name: string\n",
      "  child 2, city: string\n",
      "  child 3, country: string\n",
      "  child 4, iata: string\n",
      "  child 5, icao: string\n",
      "  child 6, latitude: double\n",
      "  child 7, longitude: double\n",
      "  child 8, altitude: int64\n",
      "  child 9, timezone: double\n",
      "  child 10, dst: string\n",
      "  child 11, tz_id: string\n",
      "  child 12, type: string\n",
      "  child 13, source: string\n",
      "codeshare: bool\n",
      "equipment: list<item: string>\n",
      "  child 0, item: string\n"
     ]
    }
   ],
   "source": [
    "def create_parquet_dataset():\n",
    "    src_data_path = 'data/processed/openflights/routes.jsonl.gz'\n",
    "    parquet_output_path = results_dir.joinpath('routes.parquet')\n",
    "    s3 = s3fs.S3FileSystem(\n",
    "        anon=True,\n",
    "        client_kwargs={\n",
    "            'endpoint_url': endpoint_url\n",
    "        }\n",
    "    )\n",
    "    \n",
    "    with s3.open(src_data_path, 'rb') as f_gz:\n",
    "        with gzip.open(f_gz, 'rb') as f:\n",
    "            ## TODO: Use Apache Arrow to create Parquet table and save the dataset\n",
    "            table = read_json(f)\n",
    "            print(table)\n",
    "            pq.write_table(table, parquet_output_path, compression='none')\n",
    "            \n",
    "\n",
    "create_parquet_dataset()"
   ]
  },
  {
   "cell_type": "markdown",
   "metadata": {},
   "source": [
    "### 3.1.d Protocol Buffers"
   ]
  },
  {
   "cell_type": "code",
   "execution_count": 50,
   "metadata": {},
   "outputs": [],
   "source": [
    "sys.path.insert(0, os.path.abspath('routes_pb2'))\n",
    "\n",
    "import routes_pb2\n",
    "\n",
    "def _airport_to_proto_obj(airport):\n",
    "    obj = routes_pb2.Airport()\n",
    "    if airport is None:\n",
    "        return None\n",
    "    if airport.get('airport_id') is None:\n",
    "        return None\n",
    "\n",
    "    obj.airport_id = airport.get('airport_id')\n",
    "    if airport.get('name'):\n",
    "        obj.name = airport.get('name')\n",
    "    if airport.get('city'):\n",
    "        obj.city = airport.get('city')\n",
    "    if airport.get('iata'):\n",
    "        obj.iata = airport.get('iata')\n",
    "    if airport.get('icao'):\n",
    "        obj.icao = airport.get('icao')\n",
    "    if airport.get('altitude'):\n",
    "        obj.altitude = airport.get('altitude')\n",
    "    if airport.get('timezone'):\n",
    "        obj.timezone = airport.get('timezone')\n",
    "    if airport.get('dst'):\n",
    "        obj.dst = airport.get('dst')\n",
    "    if airport.get('tz_id'):\n",
    "        obj.tz_id = airport.get('tz_id')\n",
    "    if airport.get('type'):\n",
    "        obj.type = airport.get('type')\n",
    "    if airport.get('source'):\n",
    "        obj.source = airport.get('source')\n",
    "\n",
    "    obj.latitude = airport.get('latitude')\n",
    "    obj.longitude = airport.get('longitude')\n",
    "\n",
    "    return obj\n",
    "\n",
    "\n",
    "def _airline_to_proto_obj(airline):\n",
    "    obj = routes_pb2.Airline()\n",
    "    ## TODO: Create an Airline obj using Protocol Buffers API\n",
    "    if airline is None:\n",
    "        return None\n",
    "    if airline.get('airline_id') is None:\n",
    "        return None\n",
    "\n",
    "    obj.airline_id = airline.get('airline_id')\n",
    "    if airline.get('name'):\n",
    "        obj.name = airline.get('name')\n",
    "    if airline.get('alias'):\n",
    "        obj.alias = airline.get('alias')\n",
    "    if airline.get('iata'):\n",
    "        obj.iata = airline.get('iata')\n",
    "    if airline.get('icao'):\n",
    "        obj.icao = airline.get('icao')\n",
    "    if airline.get('callsign'):\n",
    "        obj.callsign = airline.get('callsign')\n",
    "    if airline.get('country'):\n",
    "        obj.country = airline.get('country')\n",
    "    if airline.get('active'):\n",
    "        obj.active = airline.get('active')\n",
    "    else:\n",
    "        obj.active = False\n",
    "    return obj\n",
    "\n",
    "\n",
    "def create_protobuf_dataset(records):\n",
    "    routes = routes_pb2.Routes()\n",
    "    for record in records:\n",
    "        route = routes_pb2.Route()\n",
    "        ## TODO: Implement the code to create the Protocol Buffers Dataset\n",
    "        airline = _airline_to_proto_obj(record.get('airline', {}))\n",
    "        if airline:\n",
    "            route.airline.CopyFrom(airline)\n",
    "        src_airport = _airport_to_proto_obj(record.get('src_airport', {}))\n",
    "        if src_airport:\n",
    "            route.src_airport.CopyFrom(src_airport)\n",
    "        dst_airport = _airport_to_proto_obj(record.get('dst_airport', {}))\n",
    "        if dst_airport:\n",
    "            route.dst_airport.CopyFrom(dst_airport)\n",
    "            \n",
    "        if record.get('codeshare'):\n",
    "            route.codeshare = record.get('codeshare')\n",
    "        else:\n",
    "            route.codeshare = False\n",
    "            \n",
    "        if record.get('stops'):\n",
    "            route.stops = record.get('stops')\n",
    "        \n",
    "        equipment = record.get('equipment')\n",
    "        \n",
    "        if len(equipment) > 1:\n",
    "            for i, v in enumerate(equipment):\n",
    "                route.equipment.append(v)\n",
    "        else:\n",
    "            equipment = record.get('equipment')\n",
    "\n",
    "        routes.route.append(route)\n",
    "\n",
    "    data_path = results_dir.joinpath('routes.pb')\n",
    "\n",
    "    with open(data_path, 'wb') as f:\n",
    "        f.write(routes.SerializeToString())\n",
    "        \n",
    "    compressed_path = results_dir.joinpath('routes.pb.snappy')\n",
    "    \n",
    "    with open(compressed_path, 'wb') as f:\n",
    "        f.write(snappy.compress(routes.SerializeToString()))\n",
    "        \n",
    "create_protobuf_dataset(records)"
   ]
  },
  {
   "cell_type": "markdown",
   "metadata": {},
   "source": [
    "## 3.2"
   ]
  },
  {
   "cell_type": "markdown",
   "metadata": {},
   "source": [
    "### 3.2.a Simple Geohash Index"
   ]
  },
  {
   "cell_type": "code",
   "execution_count": 51,
   "metadata": {},
   "outputs": [],
   "source": [
    "def create_hash_dirs(records):\n",
    "    geoindex_dir = results_dir.joinpath('geoindex')\n",
    "    geoindex_dir.mkdir(exist_ok=True, parents=True)\n",
    "    hashes = []\n",
    "    ## TODO: Create hash index\n",
    "    for record in records:\n",
    "        src_airport = record.get('src_airport', {})\n",
    "        if src_airport:\n",
    "            latitude = src_airport.get('latitude')\n",
    "            longitude = src_airport.get('longitude')\n",
    "            if latitude and longitude:\n",
    "                hashes.append(pygeohash.encode(latitude, longitude))\n",
    "    \n",
    "    hashes.sort()\n",
    "    \n",
    "    three_letter = sorted(list(set([entry[:3] for entry in hashes])))\n",
    "    \n",
    "    hash_index = {value: [] for value in three_letter}\n",
    "    \n",
    "    for record in records:\n",
    "        geohash = record.get('geohash')\n",
    "        if geohash:\n",
    "            hash_index[geohash[:3]].append(record)\n",
    "            \n",
    "    for key, values in hash_index.items():\n",
    "        output_dir = geoindex_dir.joinpath(str(key[:1])).joinpath(str(key[:2]))\n",
    "        output_dir.mkdir(exist_ok=True, parents=True)\n",
    "        output_path = output_dir.joinpath('{}.jsonl.gz'.format(key))\n",
    "        with gzip.open(output_path, 'w') as f:\n",
    "            json_output = '\\n'.join([json.dumps(value) for value in values])\n",
    "            f.write(json_output.encode('utf-8'))\n",
    "            \n",
    "create_hash_dirs(records)"
   ]
  },
  {
   "cell_type": "markdown",
   "metadata": {},
   "source": [
    "### 3.2.b Simple Search Feature"
   ]
  },
  {
   "cell_type": "code",
   "execution_count": 52,
   "metadata": {},
   "outputs": [
    {
     "name": "stdout",
     "output_type": "stream",
     "text": [
      "Eppley Airfield\n"
     ]
    }
   ],
   "source": [
    "def airport_search(latitude, longitude):\n",
    "    ## TODO: Create simple search to return nearest airport\n",
    "    h = pygeohash.encode(latitude,longitude)\n",
    "    dist = 0\n",
    "    name = ''\n",
    "    for i,record in enumerate(records):\n",
    "        src_airport = record.get('src_airport', {})\n",
    "        if src_airport:\n",
    "            lat = src_airport.get('latitude')\n",
    "            long = src_airport.get('longitude')\n",
    "            a_name = src_airport.get('name')\n",
    "            if lat and long:\n",
    "                h1 = pygeohash.encode(lat,long)\n",
    "                \n",
    "                dist_n = pygeohash.geohash_approximate_distance(h,h1)\n",
    "                if i==0:\n",
    "                    dist = dist_n\n",
    "                else:\n",
    "                    if dist > dist_n:\n",
    "                        dist = dist_n\n",
    "                        name = a_name\n",
    "    print(name)\n",
    "\n",
    "airport_search(41.1499988, -95.91779)"
   ]
  },
  {
   "cell_type": "markdown",
   "metadata": {},
   "source": [
    "# 3.1 e"
   ]
  },
  {
   "cell_type": "code",
   "execution_count": 1,
   "metadata": {},
   "outputs": [
    {
     "name": "stdout",
     "output_type": "stream",
     "text": [
      "19646227 bytes\n"
     ]
    }
   ],
   "source": [
    "import os\n",
    "routes_avro_size = os.path.getsize(\"/home/jovyan/dsc650/dsc650/assignments/assignment03/results/routes.avro\")\n",
    "print (routes_avro_size, \"bytes\")"
   ]
  },
  {
   "cell_type": "code",
   "execution_count": 56,
   "metadata": {},
   "outputs": [
    {
     "name": "stdout",
     "output_type": "stream",
     "text": [
      "2327907 bytes\n"
     ]
    }
   ],
   "source": [
    "routes_parquet_size = os.path.getsize(\"/home/jovyan/dsc650/dsc650/assignments/assignment03/results/routes.parquet\")\n",
    "print (routes_parquet_size, \"bytes\")"
   ]
  },
  {
   "cell_type": "code",
   "execution_count": 57,
   "metadata": {},
   "outputs": [
    {
     "name": "stdout",
     "output_type": "stream",
     "text": [
      "3705406 bytes\n"
     ]
    }
   ],
   "source": [
    "routes_snappy_size = os.path.getsize(\"/home/jovyan/dsc650/dsc650/assignments/assignment03/results/routes.pb.snappy\")\n",
    "print (routes_snappy_size, \"bytes\")"
   ]
  },
  {
   "cell_type": "code",
   "execution_count": 58,
   "metadata": {},
   "outputs": [
    {
     "name": "stdout",
     "output_type": "stream",
     "text": [
      "22270594 bytes\n"
     ]
    }
   ],
   "source": [
    "routes_pb_size = os.path.getsize(\"/home/jovyan/dsc650/dsc650/assignments/assignment03/results/routes.pb\")\n",
    "print (routes_pb_size, \"bytes\")"
   ]
  },
  {
   "cell_type": "code",
   "execution_count": 59,
   "metadata": {},
   "outputs": [
    {
     "name": "stdout",
     "output_type": "stream",
     "text": [
      "3461 bytes\n"
     ]
    }
   ],
   "source": [
    "routes_JSONSCHEMA_size = os.path.getsize(\"/home/jovyan/dsc650/dsc650/assignments/assignment03/schemas/routes-schema.json\")\n",
    "print (routes_JSONSCHEMA_size, \"bytes\") "
   ]
  },
  {
   "cell_type": "code",
   "execution_count": 60,
   "metadata": {},
   "outputs": [
    {
     "name": "stdout",
     "output_type": "stream",
     "text": [
      "3327145 bytes\n"
     ]
    }
   ],
   "source": [
    "routes_JSONSCHEMA_gzsize = os.path.getsize(\"/home/jovyan/dsc650/data/processed/openflights/routes.jsonl.gz\")\n",
    "print (routes_JSONSCHEMA_gzsize, \"bytes\") "
   ]
  },
  {
   "cell_type": "code",
   "execution_count": null,
   "metadata": {},
   "outputs": [],
   "source": []
  }
 ],
 "metadata": {
  "kernelspec": {
   "display_name": "Python 3",
   "language": "python",
   "name": "python3"
  },
  "language_info": {
   "codemirror_mode": {
    "name": "ipython",
    "version": 3
   },
   "file_extension": ".py",
   "mimetype": "text/x-python",
   "name": "python",
   "nbconvert_exporter": "python",
   "pygments_lexer": "ipython3",
   "version": "3.8.8"
  }
 },
 "nbformat": 4,
 "nbformat_minor": 4
}
